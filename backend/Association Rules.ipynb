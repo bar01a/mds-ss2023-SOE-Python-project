{
 "cells": [
  {
   "cell_type": "code",
   "execution_count": null,
   "metadata": {},
   "outputs": [],
   "source": [
    "import pandas as pd\n",
    "from apyori import apriori"
   ]
  },
  {
   "cell_type": "code",
   "execution_count": null,
   "metadata": {},
   "outputs": [],
   "source": [
    "ratings = pd.read_csv(\"data/ratings.csv\")\n",
    "movies = pd.read_csv(\"data/movies.csv\")"
   ]
  },
  {
   "cell_type": "code",
   "execution_count": null,
   "metadata": {},
   "outputs": [],
   "source": [
    "# group by users and make it a dictionary for fast access of mean rating\n",
    "rating_mean_per_user_dict = ratings.groupby(\"userId\").rating.mean().to_dict()\n",
    "# group by movies and convert it to a dataframe (from Series)\n",
    "rating_mean_per_movie = ratings.groupby(\"movieId\").rating.mean().to_frame()\n",
    "\n",
    "# add movie infos to dataframe by joining with movies on index\n",
    "rating_mean_per_movie_joined = rating_mean_per_movie.join(movies.set_index('movieId'))\n",
    "# create dict from movie infos. Specific movie infos can be accessed with\n",
    "# rating_mean_per_movie_dict[1][\"title\"] for example\n",
    "rating_mean_per_movie_dict = rating_mean_per_movie_joined.to_dict(\"index\")\n"
   ]
  },
  {
   "cell_type": "code",
   "execution_count": null,
   "outputs": [],
   "source": [
    "from association_rules_helper import create_user_ratings_dict_set\n",
    "\n",
    "user_ratings_dict_set = create_user_ratings_dict_set(ratings, rating_mean_per_movie_dict, rating_mean_per_user_dict)"
   ],
   "metadata": {
    "collapsed": false
   }
  },
  {
   "cell_type": "code",
   "execution_count": null,
   "metadata": {},
   "outputs": [],
   "source": [
    "movie_sets = [value for value in user_ratings_dict_set.values()]"
   ]
  },
  {
   "cell_type": "code",
   "execution_count": null,
   "metadata": {},
   "outputs": [],
   "source": [
    "association_rules = apriori(movie_sets, min_support=0.0003, min_confidence=0.37, min_lift=1.6, max_length=2)"
   ]
  },
  {
   "cell_type": "code",
   "execution_count": null,
   "metadata": {},
   "outputs": [],
   "source": [
    "import gc\n",
    "\n",
    "del ratings\n",
    "del rating_mean_per_movie_joined\n",
    "\n",
    "gc.collect()"
   ]
  },
  {
   "cell_type": "code",
   "execution_count": null,
   "metadata": {},
   "outputs": [],
   "source": [
    "import pickle\n",
    "\n",
    "#association_results = list(association_rules)\n",
    "with (open(\"models/association_results_support_0003_confidence_37.pkl\", \"rb\")) as openfile:\n",
    "    association_results = pickle.load(openfile)"
   ]
  },
  {
   "cell_type": "code",
   "execution_count": null,
   "metadata": {},
   "outputs": [],
   "source": [
    "item_base = association_results[0].ordered_statistics[0].items_base\n",
    "base = next(iter(item_base))\n",
    "\n",
    "association_results[0]"
   ]
  },
  {
   "cell_type": "code",
   "execution_count": null,
   "metadata": {},
   "outputs": [],
   "source": [
    "import pickle\n",
    "\n",
    "file_name = 'models/association_results_support_0003_confidence_37.pkl'\n",
    "#with open(file_name, 'wb') as file:\n",
    "#    pickle.dump(association_results, file)\n",
    "len(association_results)"
   ]
  },
  {
   "cell_type": "code",
   "execution_count": null,
   "metadata": {},
   "outputs": [],
   "source": [
    "import association_rules_helper\n",
    "from importlib import reload\n",
    "\n",
    "reload(association_rules_helper)\n",
    "\n",
    "recommendationDict = association_rules_helper.create_movies_recommendation_dict(association_results)"
   ]
  },
  {
   "cell_type": "code",
   "execution_count": null,
   "metadata": {},
   "outputs": [],
   "source": [
    "association_rules_helper.print_possible_matches(movies,\n",
    "                                              \"pulp fi;ghost in ;John wick;the transporter;Terminator;Fast and furious;lion king;hacksaw; Undisputed; fight club;Prison break; infinity avengers; inception\",\n",
    "                                              recommendationDict)"
   ]
  },
  {
   "cell_type": "code",
   "execution_count": null,
   "metadata": {},
   "outputs": [],
   "source": [
    "association_rules_helper.print_possible_matches(movies,\n",
    "                                              \"avatar;american pie;hobbit;top gun; karate kid\",\n",
    "                                              recommendationDict,\n",
    "                                              3)"
   ]
  },
  {
   "cell_type": "code",
   "execution_count": null,
   "metadata": {},
   "outputs": [],
   "source": [
    "len(recommendationDict.keys())\n",
    "#movies[movies[\"movieId\"].isin(recommendationDict.keys())]"
   ]
  },
  {
   "cell_type": "code",
   "execution_count": null,
   "metadata": {},
   "outputs": [],
   "source": [
    "def filter_and_transform(x):\n",
    "    user_id = x[\"userId\"].iloc[0]\n",
    "    only_movies_user_enjoyed = x[x[\"rating\"] >= rating_mean_per_user_dict[user_id]]\n",
    "    return list(zip(only_movies_user_enjoyed[\"movieId\"], only_movies_user_enjoyed[\"rating\"]))\n",
    "\n",
    "\n",
    "if 'ratings' in locals():\n",
    "    user_ratings_enjoyed_dict = ratings.groupby(\"userId\").apply(filter_and_transform).to_dict()\n",
    "else:\n",
    "    user_ratings_enjoyed_dict = pd.read_csv(\"data/ratings.csv\").groupby(\"userId\").apply(filter_and_transform).to_dict()"
   ]
  },
  {
   "cell_type": "code",
   "execution_count": null,
   "outputs": [],
   "source": [
    "import numpy as np\n",
    "\n",
    "number_of_recommendations = 5\n",
    "users_with_error = 0\n",
    "users = 0\n",
    "\n",
    "for user_id in user_ratings_enjoyed_dict.keys():\n",
    "    user_movies_and_ratings = list(zip(*user_ratings_enjoyed_dict[user_id]))\n",
    "    movie_ids = user_movies_and_ratings[0]\n",
    "    ratings = user_movies_and_ratings[1]\n",
    "    movies_and_ratings_df = pd.DataFrame({\"movieId\": movie_ids, \"rating\": ratings})\n",
    "\n",
    "    # user has only 1 movie above average\n",
    "    if len(movies_and_ratings_df) < 2:\n",
    "        continue\n",
    "\n",
    "    error_list = [\n",
    "        association_rules_helper.calculate_prediction_error(user_movie_id, movies_and_ratings_df,\n",
    "                                   recommendationDict, number_of_recommendations)\n",
    "        for user_movie_id in movie_ids if user_movie_id in recommendationDict]\n",
    "\n",
    "    recommendations_match = len(np.where(np.asarray(error_list) < 1.0)[0])\n",
    "    users_with_error += 0 if recommendations_match > 0 else 1\n",
    "    users += 1\n",
    "\n",
    "    print(\"For %d out of %d user movies at least 1 out of %d recommendations matched\" %\n",
    "          # Where error is not maximum -> at least one recommendation\n",
    "          (recommendations_match,\n",
    "           len(error_list),\n",
    "           number_of_recommendations))"
   ],
   "metadata": {
    "collapsed": false
   }
  },
  {
   "cell_type": "code",
   "execution_count": null,
   "outputs": [],
   "source": [
    "print(\n",
    "    \"Users checked: %d\\nUsers with no matching recommendations: %d\\nin %%: %.2f%% of users don't have at least one matching recommendation.\" % (\n",
    "        users, users_with_error, 100 * users_with_error / users))"
   ],
   "metadata": {
    "collapsed": false
   }
  },
  {
   "cell_type": "code",
   "execution_count": null,
   "outputs": [],
   "source": [
    "association_rules_helper.print_possible_matches(movies, \"insidious\", recommendationDict)"
   ],
   "metadata": {
    "collapsed": false
   }
  },
  {
   "cell_type": "code",
   "execution_count": 17,
   "outputs": [],
   "source": [
    "import association_rules_helper\n",
    "from importlib import reload\n",
    "reload(association_rules_helper)\n",
    "\n",
    "extended_recommendation_dict = association_rules_helper.extend_recommendation_dict_both_ways(recommendationDict, 5)"
   ],
   "metadata": {
    "collapsed": false,
    "ExecuteTime": {
     "end_time": "2023-06-15T21:55:36.612601Z",
     "start_time": "2023-06-15T21:55:36.094817200Z"
    }
   }
  },
  {
   "cell_type": "code",
   "execution_count": null,
   "outputs": [],
   "source": [
    "association_rules_helper.print_possible_matches(movies, \"Insidious chapter 3 2015\", recommendationDict, 5)\n",
    "association_rules_helper.print_possible_matches(movies, \"Insidious chapter 3 2015\", extended_recommendation_dict, 5)"
   ],
   "metadata": {
    "collapsed": false
   }
  },
  {
   "cell_type": "code",
   "execution_count": null,
   "outputs": [],
   "source": [
    "print(len(extended_recommendation_dict.keys()), len(recommendationDict.keys()))"
   ],
   "metadata": {
    "collapsed": false
   }
  },
  {
   "cell_type": "code",
   "execution_count": 20,
   "outputs": [
    {
     "data": {
      "text/plain": "[3759, 85316, 3964, 2102, 7302]"
     },
     "execution_count": 20,
     "metadata": {},
     "output_type": "execute_result"
    }
   ],
   "source": [
    "\n",
    "[disliked_movie.movieId for disliked_movie in extended_recommendation_dict[596][:5]]"
   ],
   "metadata": {
    "collapsed": false,
    "ExecuteTime": {
     "end_time": "2023-06-15T21:55:43.990315700Z",
     "start_time": "2023-06-15T21:55:43.976345300Z"
    }
   }
  }
 ],
 "metadata": {
  "kernelspec": {
   "display_name": "Python 3 (ipykernel)",
   "language": "python",
   "name": "python3"
  },
  "language_info": {
   "codemirror_mode": {
    "name": "ipython",
    "version": 3
   },
   "file_extension": ".py",
   "mimetype": "text/x-python",
   "name": "python",
   "nbconvert_exporter": "python",
   "pygments_lexer": "ipython3",
   "version": "3.9.12"
  }
 },
 "nbformat": 4,
 "nbformat_minor": 1
}
